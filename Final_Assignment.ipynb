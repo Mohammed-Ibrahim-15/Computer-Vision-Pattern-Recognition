{
  "nbformat": 4,
  "nbformat_minor": 0,
  "metadata": {
    "colab": {
      "name": "Final Assignment.ipynb",
      "provenance": []
    },
    "kernelspec": {
      "name": "python3",
      "display_name": "Python 3"
    },
    "language_info": {
      "name": "python"
    }
  },
  "cells": [
    {
      "cell_type": "code",
      "metadata": {
        "id": "Clb0KZ6LdBgR"
      },
      "source": [
        "import os\n",
        "import cv2\n",
        "import random\n",
        "import numpy as np\n",
        "import tensorflow as tf\n",
        "import matplotlib.pyplot as plt\n",
        "from tqdm import tqdm\n",
        "import pickle"
      ],
      "execution_count": 39,
      "outputs": []
    },
    {
      "cell_type": "code",
      "metadata": {
        "colab": {
          "base_uri": "https://localhost:8080/"
        },
        "id": "2YXQ0gm2du7m",
        "outputId": "fd4924e6-4217-4c83-ca9c-e9c1edb2be09"
      },
      "source": [
        "DATASET_DIR = 'F:/AFALL21-22/CVPR/final assignment'\n",
        "TRAIN_DATASET = os.path.join(DATASET_DIR,'Train')#defining train directory seperately\n",
        "TEST_DATASET = os.path.join (DATASET_DIR,'Test')#defining test directory seperately\n",
        "print (DATASET_DIR)\n",
        "print (TRAIN_DATASET)\n",
        "print (TEST_DATASET)"
      ],
      "execution_count": 46,
      "outputs": [
        {
          "output_type": "stream",
          "name": "stdout",
          "text": [
            "F:/AFALL21-22/CVPR/final assignment\n",
            "F:/AFALL21-22/CVPR/final assignment/Train\n",
            "F:/AFALL21-22/CVPR/final assignment/Test\n"
          ]
        }
      ]
    },
    {
      "cell_type": "code",
      "metadata": {
        "colab": {
          "base_uri": "https://localhost:8080/",
          "height": 212
        },
        "id": "1ZseBa-TeB8X",
        "outputId": "6cadcd3f-64fa-47ba-dee4-3bbf10e6a079"
      },
      "source": [
        "CATEGORIES = []\n",
        "for c in os.listdir(TRAIN_DATASET):#list directory gives the access to all files in the path\n",
        "    CATEGORIES.append(c)\n",
        "print (CATEGORIES)"
      ],
      "execution_count": 47,
      "outputs": [
        {
          "output_type": "error",
          "ename": "FileNotFoundError",
          "evalue": "ignored",
          "traceback": [
            "\u001b[0;31m---------------------------------------------------------------------------\u001b[0m",
            "\u001b[0;31mFileNotFoundError\u001b[0m                         Traceback (most recent call last)",
            "\u001b[0;32m<ipython-input-47-6a143d6da489>\u001b[0m in \u001b[0;36m<module>\u001b[0;34m()\u001b[0m\n\u001b[1;32m      1\u001b[0m \u001b[0mCATEGORIES\u001b[0m \u001b[0;34m=\u001b[0m \u001b[0;34m[\u001b[0m\u001b[0;34m]\u001b[0m\u001b[0;34m\u001b[0m\u001b[0;34m\u001b[0m\u001b[0m\n\u001b[0;32m----> 2\u001b[0;31m \u001b[0;32mfor\u001b[0m \u001b[0mc\u001b[0m \u001b[0;32min\u001b[0m \u001b[0mos\u001b[0m\u001b[0;34m.\u001b[0m\u001b[0mlistdir\u001b[0m\u001b[0;34m(\u001b[0m\u001b[0mTRAIN_DATASET\u001b[0m\u001b[0;34m)\u001b[0m\u001b[0;34m:\u001b[0m\u001b[0;31m#list directory gives the access to all files in the path\u001b[0m\u001b[0;34m\u001b[0m\u001b[0;34m\u001b[0m\u001b[0m\n\u001b[0m\u001b[1;32m      3\u001b[0m     \u001b[0mCATEGORIES\u001b[0m\u001b[0;34m.\u001b[0m\u001b[0mappend\u001b[0m\u001b[0;34m(\u001b[0m\u001b[0mc\u001b[0m\u001b[0;34m)\u001b[0m\u001b[0;34m\u001b[0m\u001b[0;34m\u001b[0m\u001b[0m\n\u001b[1;32m      4\u001b[0m \u001b[0mprint\u001b[0m \u001b[0;34m(\u001b[0m\u001b[0mCATEGORIES\u001b[0m\u001b[0;34m)\u001b[0m\u001b[0;34m\u001b[0m\u001b[0;34m\u001b[0m\u001b[0m\n",
            "\u001b[0;31mFileNotFoundError\u001b[0m: [Errno 2] No such file or directory: 'F:/AFALL21-22/CVPR/final assignment/Train'"
          ]
        }
      ]
    },
    {
      "cell_type": "code",
      "metadata": {
        "colab": {
          "base_uri": "https://localhost:8080/",
          "height": 34
        },
        "id": "syTtkSo9wpoC",
        "outputId": "b2bb7a1c-490c-4d1c-f176-f56902c23920"
      },
      "source": [
        "plt.figure(figsize=(20,5))\n",
        "tmp = 0\n",
        "for c in CATEGORIES:#loop to access in folder categories\n",
        "    path = os.path.join(TRAIN_DATASET,c)#here c has 2 components, with and without masks\n",
        "    for img in os.listdir(path):#loop to access all the images in with mask at first\n",
        "        img_arr = cv2.imread (os.path.join(path, img))\n",
        "        plt.subplot(2,10, tmp+1)\n",
        "        plt.imshow(img_arr)\n",
        "        plt.xticks([])\n",
        "        plt.yticks([])\n",
        "        if tmp % 10 == 0:\n",
        "            plt.ylabel (c, fontsize=20, color='black')\n",
        "        tmp = tmp+1\n",
        "        if tmp % 10 == 0:\n",
        "            break;\n",
        "plt.tight_layout()\n",
        "plt.show()"
      ],
      "execution_count": 43,
      "outputs": [
        {
          "output_type": "display_data",
          "data": {
            "text/plain": [
              "<Figure size 1440x360 with 0 Axes>"
            ]
          },
          "metadata": {}
        }
      ]
    },
    {
      "cell_type": "code",
      "metadata": {
        "colab": {
          "base_uri": "https://localhost:8080/"
        },
        "id": "8VxXiMjH0BKz",
        "outputId": "8fa434b0-c82e-4bfa-81cc-a725c7887030"
      },
      "source": [
        "IMG_SIZE = 227\n",
        "train_data=[]\n",
        "for c in CATEGORIES:\n",
        "    path = os.path.join (TRAIN_DATASET,c)\n",
        "    class_num = CATEGORIES.index(c)\n",
        "    for img in tqdm(os.listdir (path)):\n",
        "        try:\n",
        "            img_arr = cv2.imread(os.path.join(path,img))\n",
        "            img_resized = cv2.resize (img_arr,(IMG_SIZE, IMG_SIZE))\n",
        "            train_data.append ([img_resized, class_num])\n",
        "        except Exception as e:\n",
        "            pass\n",
        "\n",
        "print (len(train_data))"
      ],
      "execution_count": 48,
      "outputs": [
        {
          "output_type": "stream",
          "name": "stdout",
          "text": [
            "0\n"
          ]
        }
      ]
    },
    {
      "cell_type": "code",
      "metadata": {
        "colab": {
          "base_uri": "https://localhost:8080/"
        },
        "id": "HISppmmP0HUo",
        "outputId": "331e9af9-039a-4508-edd2-845c9242f042"
      },
      "source": [
        "test_data=[]\n",
        "for c in CATEGORIES:\n",
        "    path = os.path.join (TEST_DATASET,c)\n",
        "    class_num = CATEGORIES.index(c)\n",
        "    for img in tqdm(os.listdir (path)):\n",
        "        try:\n",
        "            img_arr = cv2.imread(os.path.join(path,img))\n",
        "            img_resized = cv2.resize (img_arr,(IMG_SIZE, IMG_SIZE))\n",
        "            test_data.append ([img_resized, class_num])\n",
        "        except Exception as e:\n",
        "            pass\n",
        "\n",
        "print (len(test_data))"
      ],
      "execution_count": 49,
      "outputs": [
        {
          "output_type": "stream",
          "name": "stdout",
          "text": [
            "0\n"
          ]
        }
      ]
    },
    {
      "cell_type": "code",
      "metadata": {
        "id": "YduZ0bOB0Je4"
      },
      "source": [
        "random.shuffle (train_data)\n",
        "random.shuffle (test_data)"
      ],
      "execution_count": 50,
      "outputs": []
    },
    {
      "cell_type": "code",
      "metadata": {
        "colab": {
          "base_uri": "https://localhost:8080/",
          "height": 262
        },
        "id": "07dlVdvC0L68",
        "outputId": "a7a357a7-bd38-4786-a9be-9a851f0b4205"
      },
      "source": [
        "X_train = []\n",
        "Y_train = []\n",
        "for img,label in train_data:\n",
        "    X_train.append (img)\n",
        "    Y_train.append (label)\n",
        "\n",
        "X_train = np.array(X_train).astype('float32').reshape (-1,227,227,3)\n",
        "Y_train = np.array (Y_train)\n",
        "\n",
        "print (X_train.shape, Y_train.shape)\n",
        "plt.figure()\n",
        "plt.imshow(X_train[2000].astype('uint8'))\n",
        "plt.ylabel(Y_train[2000])\n",
        "plt.show()"
      ],
      "execution_count": 51,
      "outputs": [
        {
          "output_type": "stream",
          "name": "stdout",
          "text": [
            "(0, 227, 227, 3) (0,)\n"
          ]
        },
        {
          "output_type": "error",
          "ename": "IndexError",
          "evalue": "ignored",
          "traceback": [
            "\u001b[0;31m---------------------------------------------------------------------------\u001b[0m",
            "\u001b[0;31mIndexError\u001b[0m                                Traceback (most recent call last)",
            "\u001b[0;32m<ipython-input-51-4bd3e62d1d6c>\u001b[0m in \u001b[0;36m<module>\u001b[0;34m()\u001b[0m\n\u001b[1;32m     10\u001b[0m \u001b[0mprint\u001b[0m \u001b[0;34m(\u001b[0m\u001b[0mX_train\u001b[0m\u001b[0;34m.\u001b[0m\u001b[0mshape\u001b[0m\u001b[0;34m,\u001b[0m \u001b[0mY_train\u001b[0m\u001b[0;34m.\u001b[0m\u001b[0mshape\u001b[0m\u001b[0;34m)\u001b[0m\u001b[0;34m\u001b[0m\u001b[0;34m\u001b[0m\u001b[0m\n\u001b[1;32m     11\u001b[0m \u001b[0mplt\u001b[0m\u001b[0;34m.\u001b[0m\u001b[0mfigure\u001b[0m\u001b[0;34m(\u001b[0m\u001b[0;34m)\u001b[0m\u001b[0;34m\u001b[0m\u001b[0;34m\u001b[0m\u001b[0m\n\u001b[0;32m---> 12\u001b[0;31m \u001b[0mplt\u001b[0m\u001b[0;34m.\u001b[0m\u001b[0mimshow\u001b[0m\u001b[0;34m(\u001b[0m\u001b[0mX_train\u001b[0m\u001b[0;34m[\u001b[0m\u001b[0;36m2000\u001b[0m\u001b[0;34m]\u001b[0m\u001b[0;34m.\u001b[0m\u001b[0mastype\u001b[0m\u001b[0;34m(\u001b[0m\u001b[0;34m'uint8'\u001b[0m\u001b[0;34m)\u001b[0m\u001b[0;34m)\u001b[0m\u001b[0;34m\u001b[0m\u001b[0;34m\u001b[0m\u001b[0m\n\u001b[0m\u001b[1;32m     13\u001b[0m \u001b[0mplt\u001b[0m\u001b[0;34m.\u001b[0m\u001b[0mylabel\u001b[0m\u001b[0;34m(\u001b[0m\u001b[0mY_train\u001b[0m\u001b[0;34m[\u001b[0m\u001b[0;36m2000\u001b[0m\u001b[0;34m]\u001b[0m\u001b[0;34m)\u001b[0m\u001b[0;34m\u001b[0m\u001b[0;34m\u001b[0m\u001b[0m\n\u001b[1;32m     14\u001b[0m \u001b[0mplt\u001b[0m\u001b[0;34m.\u001b[0m\u001b[0mshow\u001b[0m\u001b[0;34m(\u001b[0m\u001b[0;34m)\u001b[0m\u001b[0;34m\u001b[0m\u001b[0;34m\u001b[0m\u001b[0m\n",
            "\u001b[0;31mIndexError\u001b[0m: index 2000 is out of bounds for axis 0 with size 0"
          ]
        },
        {
          "output_type": "display_data",
          "data": {
            "text/plain": [
              "<Figure size 432x288 with 0 Axes>"
            ]
          },
          "metadata": {}
        }
      ]
    },
    {
      "cell_type": "code",
      "metadata": {
        "colab": {
          "base_uri": "https://localhost:8080/"
        },
        "id": "G7yxmGBO0Pdd",
        "outputId": "8185d5fa-75b3-46aa-ce18-09b03eee3361"
      },
      "source": [
        "\n",
        "X_test = []\n",
        "Y_test = []\n",
        "for img,label in test_data:\n",
        "    X_test.append (img)\n",
        "    Y_test.append (label)\n",
        "\n",
        "X_test = np.array(X_test).astype('float32').reshape (-1,227,227,3)\n",
        "Y_test = np.array (Y_test)\n",
        "\n",
        "print (X_test.shape, Y_test.shape)"
      ],
      "execution_count": 52,
      "outputs": [
        {
          "output_type": "stream",
          "name": "stdout",
          "text": [
            "(0, 227, 227, 3) (0,)\n"
          ]
        }
      ]
    },
    {
      "cell_type": "code",
      "metadata": {
        "id": "N6qYs21y0T7X"
      },
      "source": [
        "\n",
        "p = open ('./X_train_CDD.pickle','wb')\n",
        "pickle.dump(X_train, p)\n",
        "p.close()\n",
        "\n",
        "p = open ('./Y_train_CDD.pickle','wb')\n",
        "pickle.dump(Y_train, p)\n",
        "p.close()\n",
        "\n",
        "p = open ('./X_test_CDD.pickle','wb')\n",
        "pickle.dump(X_test, p)\n",
        "p.close()\n",
        "\n",
        "p = open ('./Y_test_CDD.pickle','wb')\n",
        "pickle.dump(Y_test, p)\n",
        "p.close()"
      ],
      "execution_count": 53,
      "outputs": []
    },
    {
      "cell_type": "code",
      "metadata": {
        "colab": {
          "base_uri": "https://localhost:8080/",
          "height": 229
        },
        "id": "BKNo_M-y0VLt",
        "outputId": "50b9fe82-d36c-43f6-e8e7-22e68de60b04"
      },
      "source": [
        "pickle_in = open(\"C:/Users/Ankur Saha Bindu/X_train_CDD.pickle\",\"rb\")\n",
        "X_train = pickle.load (pickle_in)\n",
        "\n",
        "pickle_in = open(\"C:/Users/Ankur Saha Bindu/Y_train_CDD.pickle\",\"rb\")\n",
        "Y_train = pickle.load (pickle_in)\n",
        "\n",
        "pickle_in = open(\"C:/Users/Ankur Saha Bindu/X_test_CDD.pickle\",\"rb\")\n",
        "X_test = pickle.load (pickle_in)\n",
        "\n",
        "pickle_in = open(\"C:/Users/Ankur Saha Bindu/Y_test_CDD.pickle\",\"rb\")\n",
        "Y_test = pickle.load (pickle_in)\n",
        "\n",
        "print (X_train.shape)"
      ],
      "execution_count": 54,
      "outputs": [
        {
          "output_type": "error",
          "ename": "FileNotFoundError",
          "evalue": "ignored",
          "traceback": [
            "\u001b[0;31m---------------------------------------------------------------------------\u001b[0m",
            "\u001b[0;31mFileNotFoundError\u001b[0m                         Traceback (most recent call last)",
            "\u001b[0;32m<ipython-input-54-80f11a60fcdf>\u001b[0m in \u001b[0;36m<module>\u001b[0;34m()\u001b[0m\n\u001b[0;32m----> 1\u001b[0;31m \u001b[0mpickle_in\u001b[0m \u001b[0;34m=\u001b[0m \u001b[0mopen\u001b[0m\u001b[0;34m(\u001b[0m\u001b[0;34m\"C:/Users/Ankur Saha Bindu/X_train_CDD.pickle\"\u001b[0m\u001b[0;34m,\u001b[0m\u001b[0;34m\"rb\"\u001b[0m\u001b[0;34m)\u001b[0m\u001b[0;34m\u001b[0m\u001b[0;34m\u001b[0m\u001b[0m\n\u001b[0m\u001b[1;32m      2\u001b[0m \u001b[0mX_train\u001b[0m \u001b[0;34m=\u001b[0m \u001b[0mpickle\u001b[0m\u001b[0;34m.\u001b[0m\u001b[0mload\u001b[0m \u001b[0;34m(\u001b[0m\u001b[0mpickle_in\u001b[0m\u001b[0;34m)\u001b[0m\u001b[0;34m\u001b[0m\u001b[0;34m\u001b[0m\u001b[0m\n\u001b[1;32m      3\u001b[0m \u001b[0;34m\u001b[0m\u001b[0m\n\u001b[1;32m      4\u001b[0m \u001b[0mpickle_in\u001b[0m \u001b[0;34m=\u001b[0m \u001b[0mopen\u001b[0m\u001b[0;34m(\u001b[0m\u001b[0;34m\"C:/Users/Ankur Saha Bindu/Y_train_CDD.pickle\"\u001b[0m\u001b[0;34m,\u001b[0m\u001b[0;34m\"rb\"\u001b[0m\u001b[0;34m)\u001b[0m\u001b[0;34m\u001b[0m\u001b[0;34m\u001b[0m\u001b[0m\n\u001b[1;32m      5\u001b[0m \u001b[0mY_train\u001b[0m \u001b[0;34m=\u001b[0m \u001b[0mpickle\u001b[0m\u001b[0;34m.\u001b[0m\u001b[0mload\u001b[0m \u001b[0;34m(\u001b[0m\u001b[0mpickle_in\u001b[0m\u001b[0;34m)\u001b[0m\u001b[0;34m\u001b[0m\u001b[0;34m\u001b[0m\u001b[0m\n",
            "\u001b[0;31mFileNotFoundError\u001b[0m: [Errno 2] No such file or directory: 'C:/Users/Ankur Saha Bindu/X_train_CDD.pickle'"
          ]
        }
      ]
    },
    {
      "cell_type": "code",
      "metadata": {
        "colab": {
          "base_uri": "https://localhost:8080/"
        },
        "id": "w5xzXxZT0Ypd",
        "outputId": "d46a73da-be58-4703-f1fd-16b3f8b0940d"
      },
      "source": [
        "\n",
        "mean_rgb = np.mean(X_train, axis=(0,1,2))\n",
        "print(mean_rgb)"
      ],
      "execution_count": 55,
      "outputs": [
        {
          "output_type": "stream",
          "name": "stdout",
          "text": [
            "[nan nan nan]\n"
          ]
        },
        {
          "output_type": "stream",
          "name": "stderr",
          "text": [
            "/usr/local/lib/python3.7/dist-packages/numpy/core/fromnumeric.py:3373: RuntimeWarning: Mean of empty slice.\n",
            "  out=out, **kwargs)\n",
            "/usr/local/lib/python3.7/dist-packages/numpy/core/_methods.py:163: RuntimeWarning: invalid value encountered in true_divide\n",
            "  ret, rcount, out=ret, casting='unsafe', subok=False)\n"
          ]
        }
      ]
    },
    {
      "cell_type": "code",
      "metadata": {
        "id": "kGz-e4Rj0dLk"
      },
      "source": [
        "\n",
        "X_train_norm = np.empty_like(X_train)\n",
        "X_test_norm = np.empty_like(X_test)"
      ],
      "execution_count": 56,
      "outputs": []
    },
    {
      "cell_type": "code",
      "metadata": {
        "id": "EHKhRh-n0e67"
      },
      "source": [
        "for i in range(len(X_train)):\n",
        "    for c in range(3):\n",
        "        if(c==1):\n",
        "            X_train_norm[i,:, :, c] = X_train[i,:, :, c] - mean_rgb[0]\n",
        "        elif(c==2):\n",
        "            X_train_norm[i,:, :, c] = X_train[i,:, :, c] - mean_rgb[1]\n",
        "        else:\n",
        "            X_train_norm[i,:, :, c] = X_train[i,:, :, c] - mean_rgb[2]\n",
        "            \n",
        "for i in range(len(X_test)):\n",
        "    for c in range(3):\n",
        "        if(c==1):\n",
        "            X_test_norm[i,:, :, c] = X_test[i,:, :, c] - mean_rgb[0]\n",
        "        elif(c==2):\n",
        "            X_test_norm[i,:, :, c] = X_test[i,:, :, c] - mean_rgb[1]\n",
        "        else:\n",
        "            X_test_norm[i,:, :, c] = X_test[i,:, :, c] - mean_rgb[2]"
      ],
      "execution_count": 57,
      "outputs": []
    },
    {
      "cell_type": "code",
      "metadata": {
        "colab": {
          "base_uri": "https://localhost:8080/",
          "height": 358
        },
        "id": "XJXyki-00j-f",
        "outputId": "a72eb3f3-2139-4a2e-b0a3-5d9731739691"
      },
      "source": [
        "c = 0\n",
        "plt.figure(figsize=(5,10))\n",
        "for i in range(5):\n",
        "    plt.subplot(5,2,c+1)\n",
        "    plt.imshow(X_train[i].astype('uint8'))\n",
        "    plt.xticks([])\n",
        "    plt.yticks([])\n",
        "    \n",
        "    plt.subplot(5,2,c+2)\n",
        "    plt.imshow(X_train_norm[i].astype('uint8'))\n",
        "    plt.xticks([])\n",
        "    plt.yticks([])\n",
        "\n",
        "    c += 2\n",
        "    \n",
        "plt.tight_layout()\n",
        "plt.show()"
      ],
      "execution_count": 58,
      "outputs": [
        {
          "output_type": "error",
          "ename": "IndexError",
          "evalue": "ignored",
          "traceback": [
            "\u001b[0;31m---------------------------------------------------------------------------\u001b[0m",
            "\u001b[0;31mIndexError\u001b[0m                                Traceback (most recent call last)",
            "\u001b[0;32m<ipython-input-58-69a895ab11ed>\u001b[0m in \u001b[0;36m<module>\u001b[0;34m()\u001b[0m\n\u001b[1;32m      3\u001b[0m \u001b[0;32mfor\u001b[0m \u001b[0mi\u001b[0m \u001b[0;32min\u001b[0m \u001b[0mrange\u001b[0m\u001b[0;34m(\u001b[0m\u001b[0;36m5\u001b[0m\u001b[0;34m)\u001b[0m\u001b[0;34m:\u001b[0m\u001b[0;34m\u001b[0m\u001b[0;34m\u001b[0m\u001b[0m\n\u001b[1;32m      4\u001b[0m     \u001b[0mplt\u001b[0m\u001b[0;34m.\u001b[0m\u001b[0msubplot\u001b[0m\u001b[0;34m(\u001b[0m\u001b[0;36m5\u001b[0m\u001b[0;34m,\u001b[0m\u001b[0;36m2\u001b[0m\u001b[0;34m,\u001b[0m\u001b[0mc\u001b[0m\u001b[0;34m+\u001b[0m\u001b[0;36m1\u001b[0m\u001b[0;34m)\u001b[0m\u001b[0;34m\u001b[0m\u001b[0;34m\u001b[0m\u001b[0m\n\u001b[0;32m----> 5\u001b[0;31m     \u001b[0mplt\u001b[0m\u001b[0;34m.\u001b[0m\u001b[0mimshow\u001b[0m\u001b[0;34m(\u001b[0m\u001b[0mX_train\u001b[0m\u001b[0;34m[\u001b[0m\u001b[0mi\u001b[0m\u001b[0;34m]\u001b[0m\u001b[0;34m.\u001b[0m\u001b[0mastype\u001b[0m\u001b[0;34m(\u001b[0m\u001b[0;34m'uint8'\u001b[0m\u001b[0;34m)\u001b[0m\u001b[0;34m)\u001b[0m\u001b[0;34m\u001b[0m\u001b[0;34m\u001b[0m\u001b[0m\n\u001b[0m\u001b[1;32m      6\u001b[0m     \u001b[0mplt\u001b[0m\u001b[0;34m.\u001b[0m\u001b[0mxticks\u001b[0m\u001b[0;34m(\u001b[0m\u001b[0;34m[\u001b[0m\u001b[0;34m]\u001b[0m\u001b[0;34m)\u001b[0m\u001b[0;34m\u001b[0m\u001b[0;34m\u001b[0m\u001b[0m\n\u001b[1;32m      7\u001b[0m     \u001b[0mplt\u001b[0m\u001b[0;34m.\u001b[0m\u001b[0myticks\u001b[0m\u001b[0;34m(\u001b[0m\u001b[0;34m[\u001b[0m\u001b[0;34m]\u001b[0m\u001b[0;34m)\u001b[0m\u001b[0;34m\u001b[0m\u001b[0;34m\u001b[0m\u001b[0m\n",
            "\u001b[0;31mIndexError\u001b[0m: index 0 is out of bounds for axis 0 with size 0"
          ]
        },
        {
          "output_type": "display_data",
          "data": {
            "image/png": "[encoded data removed]",
            "text/plain": [
              "<Figure size 360x720 with 1 Axes>"
            ]
          },
          "metadata": {
            "needs_background": "light"
          }
        }
      ]
    },
    {
      "cell_type": "code",
      "metadata": {
        "colab": {
          "base_uri": "https://localhost:8080/"
        },
        "id": "uh57n5KL0kFW",
        "outputId": "0d788c0d-4982-4aac-ceda-b48937029ffa"
      },
      "source": [
        "model = tf.keras.Sequential([\n",
        "    ## input layer\n",
        "    tf.keras.Input(shape=X_train_norm.shape[1:]),\n",
        "    \n",
        "    tf.keras.layers.Conv2D(filters=64, kernel_size=(3,3), strides=(1,1), padding='same'),\n",
        "    tf.keras.layers.Activation('relu'),\n",
        "    tf.keras.layers.Conv2D(filters=64, kernel_size=(3,3), strides=(1,1), padding='same'),\n",
        "    tf.keras.layers.Activation('relu'),\n",
        "    tf.keras.layers.MaxPooling2D(pool_size=(2,2), strides=(2,2), padding='valid'),\n",
        "    \n",
        "    \n",
        "    tf.keras.layers.Conv2D(filters=128, kernel_size=(3,3), strides=(1,1), padding='same'),\n",
        "    tf.keras.layers.Activation('relu'),\n",
        "    tf.keras.layers.Conv2D(filters=128, kernel_size=(3,3), strides=(1,1), padding='same'),\n",
        "    tf.keras.layers.Activation('relu'),\n",
        "    tf.keras.layers.MaxPooling2D(pool_size=(2,2), strides=(2,2), padding='valid'),\n",
        "    \n",
        "    tf.keras.layers.Conv2D(filters=256, kernel_size=(3,3), strides=(1,1), padding='same'),\n",
        "    tf.keras.layers.Activation('relu'),\n",
        "    tf.keras.layers.Conv2D(filters=256, kernel_size=(3,3), strides=(1,1), padding='same'),\n",
        "    tf.keras.layers.Activation('relu'),\n",
        "    tf.keras.layers.Conv2D(filters=256, kernel_size=(3,3), strides=(1,1), padding='same'),\n",
        "    tf.keras.layers.Activation('relu'),\n",
        "    tf.keras.layers.MaxPooling2D(pool_size=(2,2), strides=(2,2), padding='valid'),\n",
        "    \n",
        "    \n",
        "    tf.keras.layers.Conv2D(filters=256, kernel_size=(3,3), strides=(1,1), padding='same'),\n",
        "    tf.keras.layers.Activation('relu'),\n",
        "    tf.keras.layers.Conv2D(filters=256, kernel_size=(3,3), strides=(1,1), padding='same'),\n",
        "    tf.keras.layers.Activation('relu'),\n",
        "    tf.keras.layers.Conv2D(filters=256, kernel_size=(3,3), strides=(1,1), padding='same'),\n",
        "    tf.keras.layers.Activation('relu'),\n",
        "    tf.keras.layers.MaxPooling2D(pool_size=(2,2), strides=(2,2), padding='valid'),\n",
        "    \n",
        "    \n",
        "    tf.keras.layers.Flatten(),\n",
        "    \n",
        "    tf.keras.layers.Dense(units=4096),\n",
        "    tf.keras.layers.Activation('relu'),\n",
        "    tf.keras.layers.Dropout(0.5),\n",
        "      tf.keras.layers.Dense(units=4096),\n",
        "    tf.keras.layers.Activation('relu'),\n",
        "    tf.keras.layers.Dropout(0.5),\n",
        "\n",
        "    tf.keras.layers.Dense(10),\n",
        "    tf.keras.layers.Activation('softmax')\n",
        "])\n",
        "\n",
        "model.summary()\n"
      ],
      "execution_count": 59,
      "outputs": [
        {
          "output_type": "stream",
          "name": "stdout",
          "text": [
            "Model: \"sequential\"\n",
            "_________________________________________________________________\n",
            "Layer (type)                 Output Shape              Param #   \n",
            "=================================================================\n",
            "conv2d (Conv2D)              (None, 227, 227, 64)      1792      \n",
            "_________________________________________________________________\n",
            "activation (Activation)      (None, 227, 227, 64)      0         \n",
            "_________________________________________________________________\n",
            "conv2d_1 (Conv2D)            (None, 227, 227, 64)      36928     \n",
            "_________________________________________________________________\n",
            "activation_1 (Activation)    (None, 227, 227, 64)      0         \n",
            "_________________________________________________________________\n",
            "max_pooling2d (MaxPooling2D) (None, 113, 113, 64)      0         \n",
            "_________________________________________________________________\n",
            "conv2d_2 (Conv2D)            (None, 113, 113, 128)     73856     \n",
            "_________________________________________________________________\n",
            "activation_2 (Activation)    (None, 113, 113, 128)     0         \n",
            "_________________________________________________________________\n",
            "conv2d_3 (Conv2D)            (None, 113, 113, 128)     147584    \n",
            "_________________________________________________________________\n",
            "activation_3 (Activation)    (None, 113, 113, 128)     0         \n",
            "_________________________________________________________________\n",
            "max_pooling2d_1 (MaxPooling2 (None, 56, 56, 128)       0         \n",
            "_________________________________________________________________\n",
            "conv2d_4 (Conv2D)            (None, 56, 56, 256)       295168    \n",
            "_________________________________________________________________\n",
            "activation_4 (Activation)    (None, 56, 56, 256)       0         \n",
            "_________________________________________________________________\n",
            "conv2d_5 (Conv2D)            (None, 56, 56, 256)       590080    \n",
            "_________________________________________________________________\n",
            "activation_5 (Activation)    (None, 56, 56, 256)       0         \n",
            "_________________________________________________________________\n",
            "conv2d_6 (Conv2D)            (None, 56, 56, 256)       590080    \n",
            "_________________________________________________________________\n",
            "activation_6 (Activation)    (None, 56, 56, 256)       0         \n",
            "_________________________________________________________________\n",
            "max_pooling2d_2 (MaxPooling2 (None, 28, 28, 256)       0         \n",
            "_________________________________________________________________\n",
            "conv2d_7 (Conv2D)            (None, 28, 28, 256)       590080    \n",
            "_________________________________________________________________\n",
            "activation_7 (Activation)    (None, 28, 28, 256)       0         \n",
            "_________________________________________________________________\n",
            "conv2d_8 (Conv2D)            (None, 28, 28, 256)       590080    \n",
            "_________________________________________________________________\n",
            "activation_8 (Activation)    (None, 28, 28, 256)       0         \n",
            "_________________________________________________________________\n",
            "conv2d_9 (Conv2D)            (None, 28, 28, 256)       590080    \n",
            "_________________________________________________________________\n",
            "activation_9 (Activation)    (None, 28, 28, 256)       0         \n",
            "_________________________________________________________________\n",
            "max_pooling2d_3 (MaxPooling2 (None, 14, 14, 256)       0         \n",
            "_________________________________________________________________\n",
            "flatten (Flatten)            (None, 50176)             0         \n",
            "_________________________________________________________________\n",
            "dense (Dense)                (None, 4096)              205524992 \n",
            "_________________________________________________________________\n",
            "activation_10 (Activation)   (None, 4096)              0         \n",
            "_________________________________________________________________\n",
            "dropout (Dropout)            (None, 4096)              0         \n",
            "_________________________________________________________________\n",
            "dense_1 (Dense)              (None, 4096)              16781312  \n",
            "_________________________________________________________________\n",
            "activation_11 (Activation)   (None, 4096)              0         \n",
            "_________________________________________________________________\n",
            "dropout_1 (Dropout)          (None, 4096)              0         \n",
            "_________________________________________________________________\n",
            "dense_2 (Dense)              (None, 10)                40970     \n",
            "_________________________________________________________________\n",
            "activation_12 (Activation)   (None, 10)                0         \n",
            "=================================================================\n",
            "Total params: 225,853,002\n",
            "Trainable params: 225,853,002\n",
            "Non-trainable params: 0\n",
            "_________________________________________________________________\n"
          ]
        }
      ]
    },
    {
      "cell_type": "code",
      "metadata": {
        "id": "JlKJlE2T0vVo"
      },
      "source": [
        ""
      ],
      "execution_count": null,
      "outputs": []
    }
  ]
}